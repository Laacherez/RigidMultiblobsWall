{
 "cells": [
  {
   "cell_type": "code",
   "execution_count": 1,
   "id": "b26b1157",
   "metadata": {},
   "outputs": [],
   "source": [
    "import numpy as np"
   ]
  },
  {
   "cell_type": "code",
   "execution_count": 2,
   "id": "ea8a03e6",
   "metadata": {},
   "outputs": [],
   "source": [
    "def compute_num_particles(Lx, Ly, Lz, a, phi):\n",
    "    V_box = Lx * Ly * Lz\n",
    "    V_particle = (4/3) * np.pi * a**3\n",
    "    return int((phi * V_box) / V_particle)"
   ]
  },
  {
   "cell_type": "code",
   "execution_count": 5,
   "id": "19935155",
   "metadata": {},
   "outputs": [
    {
     "data": {
      "text/plain": [
       "0"
      ]
     },
     "execution_count": 5,
     "metadata": {},
     "output_type": "execute_result"
    }
   ],
   "source": [
    "compute_num_particles(4., 4., 4., 0.055, 5e-6)"
   ]
  }
 ],
 "metadata": {
  "kernelspec": {
   "display_name": ".venv",
   "language": "python",
   "name": "python3"
  },
  "language_info": {
   "codemirror_mode": {
    "name": "ipython",
    "version": 3
   },
   "file_extension": ".py",
   "mimetype": "text/x-python",
   "name": "python",
   "nbconvert_exporter": "python",
   "pygments_lexer": "ipython3",
   "version": "3.13.5"
  }
 },
 "nbformat": 4,
 "nbformat_minor": 5
}
