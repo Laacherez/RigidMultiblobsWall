{
 "cells": [
  {
   "cell_type": "code",
   "execution_count": 94,
   "id": "d27e9d2c",
   "metadata": {},
   "outputs": [],
   "source": [
    "import numpy as np"
   ]
  },
  {
   "cell_type": "code",
   "execution_count": 95,
   "id": "1d89f186",
   "metadata": {},
   "outputs": [],
   "source": [
    "import seaborn as sns\n",
    "\n",
    "custom_params = {\n",
    "    \"xtick.direction\": \"in\",\n",
    "    \"ytick.direction\": \"in\",\n",
    "    \"lines.markeredgecolor\": \"k\",\n",
    "    \"lines.markeredgewidth\": 1.25,\n",
    "    \"figure.dpi\": 200,\n",
    "    \"text.usetex\": True,\n",
    "    \"font.family\": \"serif\"}\n",
    "sns.set_theme(context = \"notebook\", style=\"ticks\", rc=custom_params) "
   ]
  },
  {
   "cell_type": "code",
   "execution_count": 96,
   "id": "9aa4732d",
   "metadata": {},
   "outputs": [
    {
     "name": "stdout",
     "output_type": "stream",
     "text": [
      "Bead buoyant mass : 3.83e-20 kg\n",
      "Boltzmann length : 2.20e-06 m\n",
      "Total canal volume : 3.13e-15 m^3\n",
      "N_tot_particles : 4.48e+02\n",
      "N_slice_particles : 4.48e+01\n",
      "For a canal of dimensions L=2.50e-05, W=2.50e-05, H=5.00e-06, \n",
      " and an evanescent slice of height 5.00e-07,\n",
      " expect 1.00e+01 times more particles.\n"
     ]
    }
   ],
   "source": [
    "bead_density = 1055\n",
    "water_density = 1000\n",
    "bead_size = 0.055e-6\n",
    "particle_volume = 4/3 * np.pi * (bead_size)**3\n",
    "bead_mass = (bead_density - water_density) * particle_volume\n",
    "\n",
    "\n",
    "print(f\"Bead buoyant mass : {bead_mass:.2e} kg\")\n",
    "\n",
    "\n",
    "\n",
    "kB = 1.380649e-23\n",
    "T = 300\n",
    "g = 9.81\n",
    "g = 5_000*g\n",
    "\n",
    "Boltzmann_length = kB*T/(bead_mass*g)\n",
    "\n",
    "print(f\"Boltzmann length : {Boltzmann_length:.2e} m\")\n",
    "\n",
    "Debye_length = 60e-9\n",
    "B = 4\n",
    "\n",
    "evanescence = 500e-9\n",
    "H = 5e-6 # ?\n",
    "L = 25e-6 #?\n",
    "W = 25e-6 #?\n",
    "canal_volume_total = H * L * W\n",
    "print(f\"Total canal volume : {canal_volume_total:.2e} m^3\")\n",
    "\n",
    "phi = 1e-4\n",
    "N_tot_particles = phi * canal_volume_total / particle_volume\n",
    "\n",
    "print(f\"N_tot_particles : {N_tot_particles:.2e}\")\n",
    "\n",
    "slice_volume = evanescence * L * W\n",
    "N_slice_particles = phi * slice_volume / particle_volume\n",
    "print(f\"N_slice_particles : {N_slice_particles:.2e}\")\n",
    "\n",
    "ratio_particles = N_tot_particles/N_slice_particles\n",
    "\n",
    "print(\n",
    "    f\"For a canal of dimensions L={L:.2e}, W={W:.2e}, H={H:.2e}, \\n and an evanescent slice of height {evanescence:.2e},\\n expect {ratio_particles:.2e} times more particles.\")"
   ]
  },
  {
   "cell_type": "code",
   "execution_count": null,
   "id": "4a3a6344",
   "metadata": {},
   "outputs": [],
   "source": []
  },
  {
   "cell_type": "markdown",
   "id": "f7e63885",
   "metadata": {},
   "source": [
    "## Calculating the Gibbz Boltzmann distribution"
   ]
  },
  {
   "cell_type": "markdown",
   "id": "41fa4149",
   "metadata": {},
   "source": []
  },
  {
   "cell_type": "code",
   "execution_count": null,
   "id": "81fe3e67",
   "metadata": {},
   "outputs": [
    {
     "data": {
      "image/png": "[encoded data removed]",
      "text/plain": [
       "<Figure size 1280x960 with 1 Axes>"
      ]
     },
     "metadata": {},
     "output_type": "display_data"
    }
   ],
   "source": [
    "from scipy.integrate import trapezoid\n",
    "import matplotlib.pyplot as plt\n",
    "\n",
    "cell_height = np.linspace(0, max(10*H, 10*Boltzmann_length), 100000)\n",
    "\n",
    "\n",
    "P_eq_nonorm = np.exp(-( cell_height/Boltzmann_length)) #np.exp(-(B * np.exp(-cell_height/Debye_length) + cell_height/Boltzmann_length))\n",
    "\n",
    "P_eq_norm = P_eq_nonorm / trapezoid(P_eq_nonorm, cell_height)\n",
    "\n",
    "plt.semilogy(cell_height, P_eq_nonorm)\n",
    "plt.vlines(5e-7, 1e-2, 1e6, color = \"#00FF37\", linestyle = \"--\", label = \"Evanescent slice\")\n",
    "plt.vlines(Boltzmann_length, 1e-2, 1e6, color = \"#6D0000\", label = \"lB\")\n",
    "\n",
    "plt.vlines(5*Boltzmann_length, 1e-2, 1e6, color = '#000000', label = \"5lB\")\n",
    "\n",
    "plt.xlabel(\"$z$(m)\")\n",
    "plt.ylabel(\"$P(z)$\")\n",
    "\n",
    "plt.xlim(0, 2*Boltzmann_length)\n",
    "\n",
    "plt.legend()\n",
    "\n",
    "plt.show()"
   ]
  },
  {
   "cell_type": "code",
   "execution_count": 98,
   "id": "48fe3b0d",
   "metadata": {},
   "outputs": [
    {
     "data": {
      "text/plain": [
       "2.203059153601026e-06"
      ]
     },
     "execution_count": 98,
     "metadata": {},
     "output_type": "execute_result"
    }
   ],
   "source": [
    "Boltzmann_length"
   ]
  },
  {
   "cell_type": "markdown",
   "id": "521c21e4",
   "metadata": {},
   "source": [
    "The decay is exponentially small beyond lB. Thus, we can expect the concentration to remain constant provided we chose a lB superior to the evanescence slice height.\n",
    "\n",
    "REMINDER : launch positions from equilibrium sampling."
   ]
  },
  {
   "cell_type": "markdown",
   "id": "a6c9862e",
   "metadata": {},
   "source": [
    "I just have to fill with particles until about 5lBs, and wait it out for the system to thermalise. Then, I can lunch the simulations."
   ]
  },
  {
   "cell_type": "markdown",
   "id": "9f86395d",
   "metadata": {},
   "source": [
    "## RECAP : How many particles and what size of canal to use"
   ]
  },
  {
   "cell_type": "code",
   "execution_count": 99,
   "id": "b13cb189",
   "metadata": {},
   "outputs": [
    {
     "name": "stdout",
     "output_type": "stream",
     "text": [
      "0.9909035897777629\n",
      "0.20286597148656219\n",
      "Thus, the initial concentration of particles within a 5lB slab shall be [8.39065577e-06 8.39065577e-05] .\n"
     ]
    }
   ],
   "source": [
    "phi_min = 3e-5\n",
    "phi_max = 3e-4\n",
    "phi_range = np.array((phi_min, phi_max))\n",
    "\n",
    "until_five_lB = cell_height <= 4.7 * Boltzmann_length\n",
    "N_fivelB = trapezoid(P_eq_norm[until_five_lB], cell_height[until_five_lB])\n",
    "print(N_fivelB) ## 99% of particles inculded below this, let's say it's phi_0.\n",
    "# 99% below 5lb.\n",
    "# 98% below 4lb.\n",
    "# 94% below 3lb.\n",
    "\n",
    "until_lambda = cell_height <= evanescence\n",
    "N_lambda = trapezoid(P_eq_norm[until_lambda], cell_height[until_lambda])\n",
    "print(N_lambda) ## 60 % below this\n",
    "\n",
    "new_initial_phi_range = phi_range * evanescence / (N_lambda * 4 * Boltzmann_length)\n",
    "\n",
    "print(f\"Thus, the initial concentration of particles within a 5lB slab shall be\", new_initial_phi_range, \".\")\n",
    "\n",
    "\n"
   ]
  },
  {
   "cell_type": "markdown",
   "id": "37a6cd9d",
   "metadata": {},
   "source": [
    "That means I can work with quite dilute solutions while still minimising further dilution.\n",
    "\n",
    "Next step :\n",
    "\n",
    "I'll now initiate the simulations by launching positions at random, letting thermalisation do its thing, and then launch the shear.\n",
    "\n",
    "Step 1 : Initialisation.\n",
    "Define a 5 lB tall box with an open vertical boundary in y and PBC on x and z.\n",
    "Fill box with random particle positions.\n",
    "Apply g along y and thermalise.\n",
    "Recover positions after MSDs are stable and steady (I am expecting a plateau due to weak gravitational confinement).\n",
    "\n",
    "\n",
    "Step 2 : Simulation.\n",
    "Apply a shear to the whole system.\n",
    "(Sanity check here : plot some trajectories)\n",
    "Retrieve all y-DISPLACEMENTS.\n",
    "If a trajectory exits the box OB : end of trajectory.\n",
    "If a trajectory enters the box, or re-enters a box OB : beginning of a new trajectory.\n",
    "PBC are treated as such. Anyway, we care only about vertical dispersion.\n",
    "\n",
    "\n"
   ]
  },
  {
   "cell_type": "code",
   "execution_count": 100,
   "id": "d788fba3",
   "metadata": {},
   "outputs": [
    {
     "name": "stdout",
     "output_type": "stream",
     "text": [
      "blob mass in normal units : 3.8330048367673466e-20\n",
      "blob mass in units made to bring my downfall : 3.833004836767346e-14\n",
      "ratio : 1.0000000000000002e-06\n",
      "blob mass in 2_000g:  0.0018800888724343832\n",
      "ratio of gs: 1.0000000000000002e-12\n"
     ]
    }
   ],
   "source": [
    "blob_mass_in_SI =  4/3 * np.pi *(0.055e-6)**3 * (1055 - 1000)\n",
    "g = 9.81 * 1e6\n",
    "kg_to_mg = 1e6\n",
    "m_to_um = 1e6\n",
    "blob_mass_in_weird_units =  4/3 * np.pi *(0.055)**3 * (1055 - 1000) * kg_to_mg/(m_to_um**3)\n",
    "\n",
    "print(\"blob mass in normal units :\", blob_mass_in_SI)\n",
    "print(\"blob mass in units made to bring my downfall :\", blob_mass_in_weird_units)\n",
    "print(\"ratio :\", blob_mass_in_SI/blob_mass_in_weird_units)\n",
    "\n",
    "print(\"blob mass in 2_000g: \", 5_000 * g * blob_mass_in_weird_units)\n",
    "\n",
    "print(\"ratio of gs:\", blob_mass_in_SI*g/(blob_mass_in_weird_units*g*m_to_um))\n"
   ]
  },
  {
   "cell_type": "markdown",
   "id": "b824925f",
   "metadata": {},
   "source": [
    "To do next : recheck EVERY unit conversion.\n",
    "Relaunch the thermalisation step for every value of phi.\n",
    "Launch the shear step and prepare the treatment."
   ]
  }
 ],
 "metadata": {
  "kernelspec": {
   "display_name": ".venv",
   "language": "python",
   "name": "python3"
  },
  "language_info": {
   "codemirror_mode": {
    "name": "ipython",
    "version": 3
   },
   "file_extension": ".py",
   "mimetype": "text/x-python",
   "name": "python",
   "nbconvert_exporter": "python",
   "pygments_lexer": "ipython3",
   "version": "3.13.5"
  }
 },
 "nbformat": 4,
 "nbformat_minor": 5
}
